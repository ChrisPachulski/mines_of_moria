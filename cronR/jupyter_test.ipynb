{
 "cells": [
  {
   "cell_type": "code",
   "execution_count": null,
   "id": "30c83acb",
   "metadata": {},
   "outputs": [
    {
     "name": "stderr",
     "output_type": "stream",
     "text": [
      "Installing package into ‘/home/cujo253/R/x86_64-pc-linux-gnu-library/4.1’\n",
      "(as ‘lib’ is unspecified)\n",
      "\n"
     ]
    }
   ],
   "source": [
    "install.packages(\"pacman\")\n",
    "pacman::p_load(tidyverse,recipes,httr,jsonlite,h2o,ranger,timetk,lubridate,bigrquery,modeltime,modeltime.ensemble,modeltime.gluonts,modeltime.h2o,recipes,rsample,kernlab,glmnet,kknn,earth,tidymodels,rules,doFuture,future,tune,plotly,googlesheets4,googledrive)\n",
    "invisible(right <- function(text, num_char) {\n",
    "    substr(text, nchar(text) - (num_char-1), nchar(text))\n",
    "})\n",
    "\n",
    "options(httr_oob_default=TRUE) \n",
    "options(gargle_oauth_email = \"pachun95@gmail.com\")\n",
    "drive_auth(email = \"pachun95@gmail.com\",use_oob=TRUE)\n",
    "gs4_auth(email = \"pachun95@gmail.com\",use_oob=TRUE)"
   ]
  },
  {
   "cell_type": "code",
   "execution_count": null,
   "id": "fce87617",
   "metadata": {},
   "outputs": [],
   "source": []
  }
 ],
 "metadata": {
  "kernelspec": {
   "display_name": "R",
   "language": "R",
   "name": "ir"
  },
  "language_info": {
   "codemirror_mode": "r",
   "file_extension": ".r",
   "mimetype": "text/x-r-source",
   "name": "R",
   "pygments_lexer": "r",
   "version": "4.1.0"
  }
 },
 "nbformat": 4,
 "nbformat_minor": 5
}
